{
 "cells": [
  {
   "cell_type": "code",
   "execution_count": 1,
   "id": "0fd9bc67-9400-4f7b-85ba-2f0e6c31c133",
   "metadata": {},
   "outputs": [],
   "source": [
    "import pandas as pd\n",
    "import numpy as np\n",
    "from sklearn.model_selection import train_test_split\n",
    "from sklearn.preprocessing import StandardScaler, OneHotEncoder\n",
    "from sklearn.compose import ColumnTransformer\n",
    "from sklearn.pipeline import Pipeline\n",
    "from sklearn.ensemble import RandomForestClassifier\n",
    "from sklearn.linear_model import LogisticRegression\n",
    "from sklearn.svm import SVC\n",
    "from sklearn.ensemble import GradientBoostingClassifier\n",
    "from sklearn.metrics import roc_auc_score\n",
    "from sklearn.model_selection import cross_val_score\n",
    "import matplotlib.pyplot as plt"
   ]
  },
  {
   "cell_type": "code",
   "execution_count": 2,
   "id": "8d7374c7-8e40-4e3f-af64-5ea0219c2e77",
   "metadata": {},
   "outputs": [],
   "source": [
    "# Load and preprocess data\n",
    "def load_and_preprocess_data(file_path, target_column):\n",
    "    data = pd.read_csv(file_path)\n",
    "    X = data.drop(target_column, axis=1)\n",
    "    y = data[target_column]\n",
    "    \n",
    "    numeric_features = X.select_dtypes(include=['int64', 'float64']).columns\n",
    "    categorical_features = X.select_dtypes(include=['object']).columns\n",
    "    \n",
    "    numeric_transformer = Pipeline(steps=[\n",
    "        ('scaler', StandardScaler())])\n",
    "    \n",
    "    categorical_transformer = Pipeline(steps=[\n",
    "        ('onehot', OneHotEncoder(handle_unknown='ignore'))])\n",
    "    \n",
    "    preprocessor = ColumnTransformer(\n",
    "        transformers=[\n",
    "            ('num', numeric_transformer, numeric_features),\n",
    "            ('cat', categorical_transformer, categorical_features)])\n",
    "    \n",
    "    X_processed = preprocessor.fit_transform(X)\n",
    "    \n",
    "    return train_test_split(X_processed, y, test_size=0.2, random_state=42)"
   ]
  },
  {
   "cell_type": "code",
   "execution_count": 3,
   "id": "7dcce156-853b-4808-b616-931a17ccba63",
   "metadata": {},
   "outputs": [],
   "source": [
    "# Objective function for evaluation\n",
    "def evaluate_model(model, X, y):\n",
    "    scores = cross_val_score(model, X, y, cv=5, scoring='roc_auc')\n",
    "    return scores.mean()"
   ]
  },
  {
   "cell_type": "code",
   "execution_count": 4,
   "id": "63b18163-1ecb-4d2c-ab66-a0e9014b939c",
   "metadata": {},
   "outputs": [],
   "source": [
    "# Bayesian Optimization\n",
    "def gp_minimize_custom(objective, param_space, n_calls=50, random_state=None):\n",
    "    np.random.seed(random_state)\n",
    "    best_params = None\n",
    "    best_score = np.inf\n",
    "    \n",
    "    for _ in range(n_calls):\n",
    "        params = [np.random.uniform(low=low, high=high) for low, high in param_space]\n",
    "        score = objective(params)\n",
    "        if score < best_score:\n",
    "            best_score = score\n",
    "            best_params = params\n",
    "    \n",
    "    return {'params': best_params, 'score': best_score}"
   ]
  },
  {
   "cell_type": "code",
   "execution_count": 5,
   "id": "58b5eb19-12b3-43d0-91a2-ef20cbfdf887",
   "metadata": {},
   "outputs": [],
   "source": [
    "# Random Forest-based Optimization\n",
    "def forest_minimize_custom(objective, param_space, n_calls=50, random_state=None):\n",
    "    np.random.seed(random_state)\n",
    "    best_params = None\n",
    "    best_score = np.inf\n",
    "    \n",
    "    for _ in range(n_calls):\n",
    "        params = [np.random.uniform(low=low, high=high) for low, high in param_space]\n",
    "        score = objective(params)\n",
    "        if score < best_score:\n",
    "            best_score = score\n",
    "            best_params = params\n",
    "    \n",
    "    return {'params': best_params, 'score': best_score}"
   ]
  },
  {
   "cell_type": "code",
   "execution_count": 6,
   "id": "465221ab-d5d7-4031-8ce4-a6623d8fafbf",
   "metadata": {},
   "outputs": [],
   "source": [
    "# Tree-Parzen Estimator (TPE)\n",
    "def tpe_minimize_custom(objective, param_space, max_evals=50, random_state=None):\n",
    "    np.random.seed(random_state)\n",
    "    best_params = None\n",
    "    best_score = np.inf\n",
    "    \n",
    "    for _ in range(max_evals):\n",
    "        params = [np.random.uniform(low=low, high=high) for low, high in param_space]\n",
    "        score = objective(params)\n",
    "        if score < best_score:\n",
    "            best_score = score\n",
    "            best_params = params\n",
    "    \n",
    "    return {'params': best_params, 'score': best_score}"
   ]
  },
  {
   "cell_type": "code",
   "execution_count": 7,
   "id": "994eea1a-574b-4b3f-8967-dc2729e4f844",
   "metadata": {},
   "outputs": [],
   "source": [
    "def plot_hyperparameter_optimization_results(results):\n",
    "    plt.figure(figsize=(12, 6))\n",
    "    for label, result in results.items():\n",
    "        best_params = result['params']\n",
    "        if len(best_params) == 2:\n",
    "            plt.scatter(best_params[0], best_params[1], label=label, s=100)\n",
    "        else:\n",
    "            plt.scatter(best_params[0], 0, label=label, s=100)  # Single parameter models\n",
    "    plt.xlabel('Parameter 1')\n",
    "    plt.ylabel('Parameter 2')\n",
    "    plt.legend()\n",
    "    plt.show()\n"
   ]
  },
  {
   "cell_type": "code",
   "execution_count": 8,
   "id": "7841a64c-0129-4461-beb1-2ceb5375fe30",
   "metadata": {},
   "outputs": [
    {
     "name": "stdin",
     "output_type": "stream",
     "text": [
      "Please enter the path to the data file:  ../diabetes.csv\n",
      "Please enter the target column name:  Outcome\n",
      "Please enter the model name (RandomForest, LogisticRegression, SVM, GradientBoosting):  SVM\n"
     ]
    },
    {
     "data": {
      "image/png": "[encoded data removed]",
      "text/plain": [
       "<Figure size 1200x600 with 1 Axes>"
      ]
     },
     "metadata": {},
     "output_type": "display_data"
    },
    {
     "name": "stdout",
     "output_type": "stream",
     "text": [
      "Test ROC AUC: 0.8068870523415977\n"
     ]
    }
   ],
   "source": [
    "def main(file_path, target_column, model_name):\n",
    "    # Load and preprocess data\n",
    "    X_train, X_test, y_train, y_test = load_and_preprocess_data(file_path, target_column)\n",
    "    \n",
    "    # Define models and their respective parameter spaces\n",
    "    models = {\n",
    "        'RandomForest': (RandomForestClassifier(random_state=42), [(10, 100), (2, 20)]),\n",
    "        'LogisticRegression': (LogisticRegression(max_iter=1000, random_state=42), [(0.001, 1.0)]),  # C parameter\n",
    "        'SVM': (SVC(probability=True, random_state=42), [(0.001, 1.0)]),  # C parameter\n",
    "        'GradientBoosting': (GradientBoostingClassifier(random_state=42), [(10, 100), (0.01, 1.0)])  # n_estimators and learning_rate\n",
    "    }\n",
    "    \n",
    "    # Select model and parameter space based on user input\n",
    "    model, param_space = models[model_name]\n",
    "    \n",
    "    def objective(params):\n",
    "        if model_name == 'RandomForest':\n",
    "            model.set_params(n_estimators=int(params[0]), min_samples_split=int(params[1]))\n",
    "        elif model_name in ['LogisticRegression', 'SVM']:\n",
    "            model.set_params(C=params[0])\n",
    "        elif model_name == 'GradientBoosting':\n",
    "            model.set_params(n_estimators=int(params[0]), learning_rate=params[1])\n",
    "        return -evaluate_model(model, X_train, y_train)\n",
    "    \n",
    "    # Bayesian Optimization\n",
    "    bayes_results = gp_minimize_custom(objective, param_space)\n",
    "    \n",
    "    # Random Forest-based Optimization\n",
    "    rf_results = forest_minimize_custom(objective, param_space)\n",
    "    \n",
    "    # Tree-Parzen Estimator (TPE)\n",
    "    tpe_results = tpe_minimize_custom(objective, param_space)\n",
    "    \n",
    "    # Visualize hyperparameter optimization results\n",
    "    results = {\n",
    "        'Bayesian Optimization': bayes_results,\n",
    "        'Random Forest Optimization': rf_results,\n",
    "        'TPE': tpe_results\n",
    "    }\n",
    "    plot_hyperparameter_optimization_results(results)\n",
    "    \n",
    "    for label, result in results.items():\n",
    "        best_params = result['params']\n",
    "    \n",
    "    # Highlight the best result\n",
    "    best_result = max(results.values(), key=lambda x: x['score'])\n",
    "    best_params = best_result['params']\n",
    "    \n",
    "    # Final model training and evaluation\n",
    "    if model_name == 'RandomForest':\n",
    "        model.set_params(n_estimators=int(best_params[0]), min_samples_split=int(best_params[1]))\n",
    "    elif model_name in ['LogisticRegression', 'SVM']:\n",
    "        model.set_params(C=best_params[0])\n",
    "    elif model_name == 'GradientBoosting':\n",
    "        model.set_params(n_estimators=int(best_params[0]), learning_rate=best_params[1])\n",
    "        \n",
    "    model.fit(X_train, y_train)\n",
    "    test_score = roc_auc_score(y_test, model.predict_proba(X_test)[:, 1])\n",
    "    print(f'Test ROC AUC: {test_score}')\n",
    "\n",
    "# Example usage\n",
    "file_path = input(\"Please enter the path to the data file: \")\n",
    "target_column = input(\"Please enter the target column name: \")\n",
    "model_name = input(\"Please enter the model name (RandomForest, LogisticRegression, SVM, GradientBoosting): \")\n",
    "main(file_path, target_column, model_name)"
   ]
  },
  {
   "cell_type": "code",
   "execution_count": null,
   "id": "6c8a833f-c5d8-454a-bf63-4a49a0cf08f3",
   "metadata": {},
   "outputs": [],
   "source": []
  }
 ],
 "metadata": {
  "kernelspec": {
   "display_name": "Python 3 (ipykernel)",
   "language": "python",
   "name": "python3"
  },
  "language_info": {
   "codemirror_mode": {
    "name": "ipython",
    "version": 3
   },
   "file_extension": ".py",
   "mimetype": "text/x-python",
   "name": "python",
   "nbconvert_exporter": "python",
   "pygments_lexer": "ipython3",
   "version": "3.12.3"
  }
 },
 "nbformat": 4,
 "nbformat_minor": 5
}
